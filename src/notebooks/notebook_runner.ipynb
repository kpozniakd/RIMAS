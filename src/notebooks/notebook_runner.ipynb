{
 "cells": [
  {
   "cell_type": "markdown",
   "id": "941e5aa2",
   "metadata": {},
   "source": [
    "# Handwritten Text Recognition - French Dataset Analysis\n"
   ]
  },
  {
   "cell_type": "markdown",
   "id": "f81bd7b4",
   "metadata": {},
   "source": [
    "## Setup and Library Imports"
   ]
  },
  {
   "cell_type": "markdown",
   "id": "f05b0b72",
   "metadata": {},
   "source": [
    "Enable autoreloading of modules for interactive development\n"
   ]
  },
  {
   "cell_type": "code",
   "execution_count": 1,
   "id": "77b90be8",
   "metadata": {},
   "outputs": [],
   "source": [
    "%load_ext autoreload\n",
    "%autoreload 2"
   ]
  },
  {
   "cell_type": "code",
   "execution_count": 2,
   "id": "70750f25",
   "metadata": {},
   "outputs": [],
   "source": [
    "import sys\n",
    "import os\n",
    "sys.path.append(\"..\")\n",
    "import pandas as pd\n",
    "import matplotlib.pyplot as plt\n",
    "from PIL import Image"
   ]
  },
  {
   "cell_type": "code",
   "execution_count": 3,
   "id": "0b6664f4",
   "metadata": {},
   "outputs": [],
   "source": [
    "from core.config.config import Config\n",
    "\n",
    "config = Config()"
   ]
  },
  {
   "cell_type": "markdown",
   "id": "4b498216",
   "metadata": {},
   "source": [
    "## Data Loading and Initial Inspection\n"
   ]
  },
  {
   "cell_type": "code",
   "execution_count": 4,
   "id": "4e971e7c",
   "metadata": {},
   "outputs": [
    {
     "data": {
      "text/html": [
       "<div>\n",
       "<style scoped>\n",
       "    .dataframe tbody tr th:only-of-type {\n",
       "        vertical-align: middle;\n",
       "    }\n",
       "\n",
       "    .dataframe tbody tr th {\n",
       "        vertical-align: top;\n",
       "    }\n",
       "\n",
       "    .dataframe thead th {\n",
       "        text-align: right;\n",
       "    }\n",
       "</style>\n",
       "<table border=\"1\" class=\"dataframe\">\n",
       "  <thead>\n",
       "    <tr style=\"text-align: right;\">\n",
       "      <th></th>\n",
       "      <th>Filenames</th>\n",
       "      <th>Contents</th>\n",
       "    </tr>\n",
       "  </thead>\n",
       "  <tbody>\n",
       "    <tr>\n",
       "      <th>0</th>\n",
       "      <td>train2011-1000_000001.jpg</td>\n",
       "      <td>Suite à l'annonce d'un heureux événement,</td>\n",
       "    </tr>\n",
       "    <tr>\n",
       "      <th>1</th>\n",
       "      <td>train2011-1000_000002.jpg</td>\n",
       "      <td>mon adresse a changé. Veuillez noter mes nouve...</td>\n",
       "    </tr>\n",
       "    <tr>\n",
       "      <th>2</th>\n",
       "      <td>train2011-1000_000003.jpg</td>\n",
       "      <td>coordonnées ci-dessus indiquées ainsi que mon</td>\n",
       "    </tr>\n",
       "    <tr>\n",
       "      <th>3</th>\n",
       "      <td>train2011-1000_000004.jpg</td>\n",
       "      <td>nouveau numéro de téléphone.</td>\n",
       "    </tr>\n",
       "    <tr>\n",
       "      <th>4</th>\n",
       "      <td>train2011-1000_000005.jpg</td>\n",
       "      <td>Merci de m'envoyer mon prochain colis à</td>\n",
       "    </tr>\n",
       "  </tbody>\n",
       "</table>\n",
       "</div>"
      ],
      "text/plain": [
       "                   Filenames  \\\n",
       "0  train2011-1000_000001.jpg   \n",
       "1  train2011-1000_000002.jpg   \n",
       "2  train2011-1000_000003.jpg   \n",
       "3  train2011-1000_000004.jpg   \n",
       "4  train2011-1000_000005.jpg   \n",
       "\n",
       "                                            Contents  \n",
       "0          Suite à l'annonce d'un heureux événement,  \n",
       "1  mon adresse a changé. Veuillez noter mes nouve...  \n",
       "2      coordonnées ci-dessus indiquées ainsi que mon  \n",
       "3                       nouveau numéro de téléphone.  \n",
       "4            Merci de m'envoyer mon prochain colis à  "
      ]
     },
     "execution_count": 4,
     "metadata": {},
     "output_type": "execute_result"
    }
   ],
   "source": [
    "rimas_train_set = pd.read_csv(config.TRAIN_CSV_PATH, sep=',')\n",
    "rimas_train_set.head()"
   ]
  },
  {
   "cell_type": "code",
   "execution_count": 5,
   "id": "29d4e4f1",
   "metadata": {},
   "outputs": [
    {
     "data": {
      "text/html": [
       "<div>\n",
       "<style scoped>\n",
       "    .dataframe tbody tr th:only-of-type {\n",
       "        vertical-align: middle;\n",
       "    }\n",
       "\n",
       "    .dataframe tbody tr th {\n",
       "        vertical-align: top;\n",
       "    }\n",
       "\n",
       "    .dataframe thead th {\n",
       "        text-align: right;\n",
       "    }\n",
       "</style>\n",
       "<table border=\"1\" class=\"dataframe\">\n",
       "  <thead>\n",
       "    <tr style=\"text-align: right;\">\n",
       "      <th></th>\n",
       "      <th>Filenames</th>\n",
       "      <th>Contents</th>\n",
       "    </tr>\n",
       "  </thead>\n",
       "  <tbody>\n",
       "    <tr>\n",
       "      <th>0</th>\n",
       "      <td>eval2011-0_000001.jpg</td>\n",
       "      <td>Comme indiqué dans les conditions particulière...</td>\n",
       "    </tr>\n",
       "    <tr>\n",
       "      <th>1</th>\n",
       "      <td>eval2011-0_000002.jpg</td>\n",
       "      <td>habitation n° DPUET36, je souhaite vous faire ...</td>\n",
       "    </tr>\n",
       "    <tr>\n",
       "      <th>2</th>\n",
       "      <td>eval2011-0_000003.jpg</td>\n",
       "      <td>de mon domicile du 3 Rue Gambetta, 57000 METZ,...</td>\n",
       "    </tr>\n",
       "    <tr>\n",
       "      <th>3</th>\n",
       "      <td>eval2011-0_000004.jpg</td>\n",
       "      <td>2007.</td>\n",
       "    </tr>\n",
       "    <tr>\n",
       "      <th>4</th>\n",
       "      <td>eval2011-0_000005.jpg</td>\n",
       "      <td>Je souhaite donc que vous procédiez à la résil...</td>\n",
       "    </tr>\n",
       "  </tbody>\n",
       "</table>\n",
       "</div>"
      ],
      "text/plain": [
       "               Filenames                                           Contents\n",
       "0  eval2011-0_000001.jpg  Comme indiqué dans les conditions particulière...\n",
       "1  eval2011-0_000002.jpg  habitation n° DPUET36, je souhaite vous faire ...\n",
       "2  eval2011-0_000003.jpg  de mon domicile du 3 Rue Gambetta, 57000 METZ,...\n",
       "3  eval2011-0_000004.jpg                                              2007.\n",
       "4  eval2011-0_000005.jpg  Je souhaite donc que vous procédiez à la résil..."
      ]
     },
     "execution_count": 5,
     "metadata": {},
     "output_type": "execute_result"
    }
   ],
   "source": [
    "rimas_test_set = pd.read_csv(config.TEST_CSV_PATH)\n",
    "rimas_test_set.head()"
   ]
  },
  {
   "cell_type": "markdown",
   "id": "dfb4b20b",
   "metadata": {},
   "source": [
    "### Words Segmentation Pipeline\n"
   ]
  },
  {
   "cell_type": "code",
   "execution_count": 28,
   "id": "17c423e4",
   "metadata": {},
   "outputs": [],
   "source": [
    "from ml.preprocessing.word_segmenter import WordSegmenter"
   ]
  },
  {
   "cell_type": "code",
   "execution_count": 29,
   "id": "d70f01c9",
   "metadata": {},
   "outputs": [],
   "source": [
    "word_segmenter = WordSegmenter()"
   ]
  },
  {
   "cell_type": "code",
   "execution_count": 23,
   "id": "d3ac7daf",
   "metadata": {},
   "outputs": [
    {
     "data": {
      "image/png": "[encoded data removed]",
      "text/plain": [
       "<Figure size 1200x400 with 1 Axes>"
      ]
     },
     "metadata": {},
     "output_type": "display_data"
    }
   ],
   "source": [
    "word_segmenter.visualize_line_by_path(rimas_train_set.iloc[3], config.TRAIN_IMG_DIR)"
   ]
  },
  {
   "cell_type": "markdown",
   "id": "8c977832",
   "metadata": {},
   "source": [
    "#### Save word images and write json file with filename and label for each word"
   ]
  },
  {
   "cell_type": "code",
   "execution_count": 25,
   "id": "d3c61fac",
   "metadata": {},
   "outputs": [],
   "source": [
    "from core.exporters.words_exporter import WordExporter"
   ]
  },
  {
   "cell_type": "code",
   "execution_count": 30,
   "id": "79b02a49",
   "metadata": {},
   "outputs": [],
   "source": [
    "word_exporter = WordExporter(word_segmenter)"
   ]
  },
  {
   "cell_type": "code",
   "execution_count": 33,
   "id": "63c6bec9",
   "metadata": {},
   "outputs": [
    {
     "name": "stdout",
     "output_type": "stream",
     "text": [
      "Done! Word images saved: 28475 Folder: C:\\Users\\kpozniak\\RIMAS\\src\\data\\processed\\words\n"
     ]
    }
   ],
   "source": [
    "word_exporter.export_from_dataframe(\n",
    "    df=rimas_train_set,\n",
    "    img_root=config.TRAIN_IMG_DIR,  \n",
    "    out_dir=config.OUTPUT_PROCESSED_DIR, \n",
    ")\n"
   ]
  }
 ],
 "metadata": {
  "kernelspec": {
   "display_name": ".venv",
   "language": "python",
   "name": "python3"
  },
  "language_info": {
   "codemirror_mode": {
    "name": "ipython",
    "version": 3
   },
   "file_extension": ".py",
   "mimetype": "text/x-python",
   "name": "python",
   "nbconvert_exporter": "python",
   "pygments_lexer": "ipython3",
   "version": "3.13.2"
  }
 },
 "nbformat": 4,
 "nbformat_minor": 5
}
