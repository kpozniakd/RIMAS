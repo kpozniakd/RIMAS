{
 "cells": [
  {
   "cell_type": "markdown",
   "id": "542c725e",
   "metadata": {},
   "source": [
    "# Image and Text Feature Extractor for RIMAS dataset"
   ]
  },
  {
   "cell_type": "markdown",
   "id": "0830fd3f",
   "metadata": {},
   "source": [
    "## Setup and libraries imports"
   ]
  },
  {
   "cell_type": "code",
   "execution_count": 27,
   "id": "23175f12",
   "metadata": {},
   "outputs": [
    {
     "name": "stdout",
     "output_type": "stream",
     "text": [
      "The autoreload extension is already loaded. To reload it, use:\n",
      "  %reload_ext autoreload\n"
     ]
    }
   ],
   "source": [
    "%load_ext autoreload\n",
    "%autoreload 2"
   ]
  },
  {
   "cell_type": "code",
   "execution_count": 28,
   "id": "c4750961",
   "metadata": {},
   "outputs": [],
   "source": [
    "import os\n",
    "import sys\n",
    "\n",
    "import cv2\n",
    "from tqdm import tqdm\n",
    "import numpy as np\n",
    "import pandas as pd\n",
    "from PIL import Image\n",
    "from pathlib import Path\n",
    "from typing import List, Tuple\n",
    "\n",
    "sys.path.append(str(Path(os.getcwd()).resolve().parent.parent))\n",
    "\n",
    "from src.core.config.config import Config\n",
    "from src.ml.embeddings.feature_extractor import FeatureExtractor\n",
    "from src.utils.saving_utils.save_embeddings import EmbeddingsSaver\n",
    "from src.core.loaders.embedding_loader import EmbeddingsLoader\n",
    "\n",
    "config = Config()\n",
    "saver_service = EmbeddingsSaver(compression=config.COMPRESSION)\n",
    "loader_service = EmbeddingsLoader()"
   ]
  },
  {
   "cell_type": "markdown",
   "id": "5790d94c",
   "metadata": {},
   "source": [
    "## Research Workflow: Image & Text Feature Extraction\n",
    "\n",
    "### Goal\n",
    "\n",
    "Identify the most effective feature extraction method (for both images and text) by experimenting with multiple approaches and comparing classification performance.\n",
    "\n",
    "---\n",
    "\n",
    "## Image Feature Extraction\n",
    "\n",
    "### Methods to Compare\n",
    "\n",
    "* Flattening approach\n",
    "* HOG (Histogram of Oriented Gradients)\n",
    "* LBP (Local Binary Patterns)\n",
    "* SIFT (Scale-Invariant Feature Transform)\n",
    "* SURF (Speeded-Up Robust Features)\n",
    "* (Optional: add more methods)\n",
    "\n",
    "### Workflow\n",
    "\n",
    "1. Extract features using each method.\n",
    "2. Construct a consolidated `DataFrame` with all feature sets.\n",
    "3. Train classification models on each feature representation.\n",
    "4. Evaluate classifiers on the task: detecting the presence of specific letters in word images.\n",
    "5. Compare metrics across models and methods.\n",
    "6. Select the best-performing image feature extractor.\n",
    "\n",
    "---\n",
    "\n",
    "## Text Feature Extraction\n",
    "\n",
    "### Starting Point\n",
    "\n",
    "* Bag of letters representation\n",
    "\n",
    "### Next Steps\n",
    "\n",
    "1. Implement bag of letters as baseline.\n",
    "2. Experiment with additional encoders (TF-IDF, n-grams, etc.).\n",
    "3. Train classifiers on text-based features.\n",
    "4. Evaluate and compare performance.\n",
    "\n",
    "---\n",
    "\n",
    "## Evaluation\n",
    "\n",
    "* **Metrics:** Accuracy, Precision, Recall, F1-score (and others if needed).\n",
    "* **Outcome:** Best image feature extractor + best text feature extractor → Final approaches for classification tasks.\n"
   ]
  },
  {
   "cell_type": "markdown",
   "id": "5e9d093e",
   "metadata": {},
   "source": [
    "### Flatten Image Embeddings"
   ]
  },
  {
   "cell_type": "code",
   "execution_count": 29,
   "id": "3780a1e1",
   "metadata": {},
   "outputs": [
    {
     "name": "stderr",
     "output_type": "stream",
     "text": [
      "INFO:core.loaders.data_loader:Loaded 28475 text-image pairs\n"
     ]
    }
   ],
   "source": [
    "\n",
    "feature_extractor = FeatureExtractor(\n",
    "    dataset_path=config.DATASET_PATH,\n",
    "    target_size=config.TARGET_SIZE,\n",
    "    image_embeddings_path=config.IMAGE_EMBEDDINGS_PATH,\n",
    "    encoder_type=config.ENCODER_TYPE,\n",
    "    saver_service=saver_service\n",
    ")"
   ]
  },
  {
   "cell_type": "code",
   "execution_count": 30,
   "id": "843707c6",
   "metadata": {},
   "outputs": [
    {
     "name": "stderr",
     "output_type": "stream",
     "text": [
      "Embedding batches:   0%|          | 0/29 [00:00<?, ?it/s]INFO:src.utils.saving_utils.save_embeddings:Image embeddings saved to /home/nikolay/Deloitte/RIMAS/src/data/processed/words/weights/image_batches/part-00000.parquet successfully.\n",
      "Embedding batches:   3%|▎         | 1/29 [00:39<18:39, 39.97s/it]WARNING:ml.embeddings.image_encoder:No SIFT features found in the image, returning zero vector\n",
      "INFO:src.utils.saving_utils.save_embeddings:Image embeddings saved to /home/nikolay/Deloitte/RIMAS/src/data/processed/words/weights/image_batches/part-00001.parquet successfully.\n",
      "Embedding batches:   7%|▋         | 2/29 [01:23<18:59, 42.21s/it]INFO:src.utils.saving_utils.save_embeddings:Image embeddings saved to /home/nikolay/Deloitte/RIMAS/src/data/processed/words/weights/image_batches/part-00002.parquet successfully.\n",
      "Embedding batches:  10%|█         | 3/29 [02:04<17:54, 41.34s/it]INFO:src.utils.saving_utils.save_embeddings:Image embeddings saved to /home/nikolay/Deloitte/RIMAS/src/data/processed/words/weights/image_batches/part-00003.parquet successfully.\n",
      "Embedding batches:  14%|█▍        | 4/29 [02:44<17:00, 40.80s/it]WARNING:ml.embeddings.image_encoder:No SIFT features found in the image, returning zero vector\n",
      "INFO:src.utils.saving_utils.save_embeddings:Image embeddings saved to /home/nikolay/Deloitte/RIMAS/src/data/processed/words/weights/image_batches/part-00004.parquet successfully.\n",
      "Embedding batches:  17%|█▋        | 5/29 [03:23<16:11, 40.47s/it]WARNING:ml.embeddings.image_encoder:No SIFT features found in the image, returning zero vector\n",
      "INFO:src.utils.saving_utils.save_embeddings:Image embeddings saved to /home/nikolay/Deloitte/RIMAS/src/data/processed/words/weights/image_batches/part-00005.parquet successfully.\n",
      "Embedding batches:  21%|██        | 6/29 [04:04<15:31, 40.51s/it]WARNING:ml.embeddings.image_encoder:No SIFT features found in the image, returning zero vector\n",
      "INFO:src.utils.saving_utils.save_embeddings:Image embeddings saved to /home/nikolay/Deloitte/RIMAS/src/data/processed/words/weights/image_batches/part-00006.parquet successfully.\n",
      "Embedding batches:  24%|██▍       | 7/29 [04:44<14:51, 40.51s/it]WARNING:ml.embeddings.image_encoder:No SIFT features found in the image, returning zero vector\n",
      "INFO:src.utils.saving_utils.save_embeddings:Image embeddings saved to /home/nikolay/Deloitte/RIMAS/src/data/processed/words/weights/image_batches/part-00007.parquet successfully.\n",
      "Embedding batches:  28%|██▊       | 8/29 [05:26<14:13, 40.67s/it]WARNING:ml.embeddings.image_encoder:No SIFT features found in the image, returning zero vector\n",
      "INFO:src.utils.saving_utils.save_embeddings:Image embeddings saved to /home/nikolay/Deloitte/RIMAS/src/data/processed/words/weights/image_batches/part-00008.parquet successfully.\n",
      "Embedding batches:  31%|███       | 9/29 [06:10<13:55, 41.78s/it]INFO:src.utils.saving_utils.save_embeddings:Image embeddings saved to /home/nikolay/Deloitte/RIMAS/src/data/processed/words/weights/image_batches/part-00009.parquet successfully.\n",
      "Embedding batches:  34%|███▍      | 10/29 [06:50<13:04, 41.28s/it]INFO:src.utils.saving_utils.save_embeddings:Image embeddings saved to /home/nikolay/Deloitte/RIMAS/src/data/processed/words/weights/image_batches/part-00010.parquet successfully.\n",
      "Embedding batches:  38%|███▊      | 11/29 [07:30<12:16, 40.92s/it]WARNING:ml.embeddings.image_encoder:No SIFT features found in the image, returning zero vector\n",
      "INFO:src.utils.saving_utils.save_embeddings:Image embeddings saved to /home/nikolay/Deloitte/RIMAS/src/data/processed/words/weights/image_batches/part-00011.parquet successfully.\n",
      "Embedding batches:  41%|████▏     | 12/29 [08:10<11:31, 40.68s/it]WARNING:ml.embeddings.image_encoder:No SIFT features found in the image, returning zero vector\n",
      "INFO:src.utils.saving_utils.save_embeddings:Image embeddings saved to /home/nikolay/Deloitte/RIMAS/src/data/processed/words/weights/image_batches/part-00012.parquet successfully.\n",
      "Embedding batches:  45%|████▍     | 13/29 [08:50<10:48, 40.53s/it]INFO:src.utils.saving_utils.save_embeddings:Image embeddings saved to /home/nikolay/Deloitte/RIMAS/src/data/processed/words/weights/image_batches/part-00013.parquet successfully.\n",
      "Embedding batches:  48%|████▊     | 14/29 [09:30<10:04, 40.28s/it]INFO:src.utils.saving_utils.save_embeddings:Image embeddings saved to /home/nikolay/Deloitte/RIMAS/src/data/processed/words/weights/image_batches/part-00014.parquet successfully.\n",
      "Embedding batches:  52%|█████▏    | 15/29 [10:10<09:21, 40.11s/it]WARNING:ml.embeddings.image_encoder:No SIFT features found in the image, returning zero vector\n",
      "INFO:src.utils.saving_utils.save_embeddings:Image embeddings saved to /home/nikolay/Deloitte/RIMAS/src/data/processed/words/weights/image_batches/part-00015.parquet successfully.\n",
      "Embedding batches:  55%|█████▌    | 16/29 [10:49<08:39, 39.99s/it]WARNING:ml.embeddings.image_encoder:No SIFT features found in the image, returning zero vector\n",
      "INFO:src.utils.saving_utils.save_embeddings:Image embeddings saved to /home/nikolay/Deloitte/RIMAS/src/data/processed/words/weights/image_batches/part-00016.parquet successfully.\n",
      "Embedding batches:  59%|█████▊    | 17/29 [11:33<08:11, 40.93s/it]WARNING:ml.embeddings.image_encoder:No SIFT features found in the image, returning zero vector\n",
      "INFO:src.utils.saving_utils.save_embeddings:Image embeddings saved to /home/nikolay/Deloitte/RIMAS/src/data/processed/words/weights/image_batches/part-00017.parquet successfully.\n",
      "Embedding batches:  62%|██████▏   | 18/29 [12:12<07:25, 40.47s/it]WARNING:ml.embeddings.image_encoder:No SIFT features found in the image, returning zero vector\n",
      "WARNING:ml.embeddings.image_encoder:No SIFT features found in the image, returning zero vector\n",
      "INFO:src.utils.saving_utils.save_embeddings:Image embeddings saved to /home/nikolay/Deloitte/RIMAS/src/data/processed/words/weights/image_batches/part-00018.parquet successfully.\n",
      "Embedding batches:  66%|██████▌   | 19/29 [12:52<06:42, 40.25s/it]WARNING:ml.embeddings.image_encoder:No SIFT features found in the image, returning zero vector\n",
      "WARNING:ml.embeddings.image_encoder:No SIFT features found in the image, returning zero vector\n",
      "WARNING:ml.embeddings.image_encoder:No SIFT features found in the image, returning zero vector\n",
      "INFO:src.utils.saving_utils.save_embeddings:Image embeddings saved to /home/nikolay/Deloitte/RIMAS/src/data/processed/words/weights/image_batches/part-00019.parquet successfully.\n",
      "Embedding batches:  69%|██████▉   | 20/29 [13:32<06:01, 40.19s/it]WARNING:ml.embeddings.image_encoder:No SIFT features found in the image, returning zero vector\n",
      "INFO:src.utils.saving_utils.save_embeddings:Image embeddings saved to /home/nikolay/Deloitte/RIMAS/src/data/processed/words/weights/image_batches/part-00020.parquet successfully.\n",
      "Embedding batches:  72%|███████▏  | 21/29 [14:12<05:20, 40.12s/it]WARNING:ml.embeddings.image_encoder:No SIFT features found in the image, returning zero vector\n",
      "WARNING:ml.embeddings.image_encoder:No SIFT features found in the image, returning zero vector\n",
      "INFO:src.utils.saving_utils.save_embeddings:Image embeddings saved to /home/nikolay/Deloitte/RIMAS/src/data/processed/words/weights/image_batches/part-00021.parquet successfully.\n",
      "Embedding batches:  76%|███████▌  | 22/29 [14:51<04:39, 39.97s/it]WARNING:ml.embeddings.image_encoder:No SIFT features found in the image, returning zero vector\n",
      "INFO:src.utils.saving_utils.save_embeddings:Image embeddings saved to /home/nikolay/Deloitte/RIMAS/src/data/processed/words/weights/image_batches/part-00022.parquet successfully.\n",
      "Embedding batches:  79%|███████▉  | 23/29 [15:31<03:59, 39.86s/it]INFO:src.utils.saving_utils.save_embeddings:Image embeddings saved to /home/nikolay/Deloitte/RIMAS/src/data/processed/words/weights/image_batches/part-00023.parquet successfully.\n",
      "Embedding batches:  83%|████████▎ | 24/29 [16:11<03:19, 39.92s/it]WARNING:ml.embeddings.image_encoder:No SIFT features found in the image, returning zero vector\n",
      "INFO:src.utils.saving_utils.save_embeddings:Image embeddings saved to /home/nikolay/Deloitte/RIMAS/src/data/processed/words/weights/image_batches/part-00024.parquet successfully.\n",
      "Embedding batches:  86%|████████▌ | 25/29 [16:51<02:39, 39.80s/it]WARNING:ml.embeddings.image_encoder:No SIFT features found in the image, returning zero vector\n",
      "INFO:src.utils.saving_utils.save_embeddings:Image embeddings saved to /home/nikolay/Deloitte/RIMAS/src/data/processed/words/weights/image_batches/part-00025.parquet successfully.\n",
      "Embedding batches:  90%|████████▉ | 26/29 [17:34<02:02, 40.92s/it]INFO:src.utils.saving_utils.save_embeddings:Image embeddings saved to /home/nikolay/Deloitte/RIMAS/src/data/processed/words/weights/image_batches/part-00026.parquet successfully.\n",
      "Embedding batches:  93%|█████████▎| 27/29 [18:14<01:21, 40.56s/it]INFO:src.utils.saving_utils.save_embeddings:Image embeddings saved to /home/nikolay/Deloitte/RIMAS/src/data/processed/words/weights/image_batches/part-00027.parquet successfully.\n",
      "Embedding batches:  97%|█████████▋| 28/29 [18:54<00:40, 40.45s/it]WARNING:ml.embeddings.image_encoder:No SIFT features found in the image, returning zero vector\n",
      "INFO:src.utils.saving_utils.save_embeddings:Image embeddings saved to /home/nikolay/Deloitte/RIMAS/src/data/processed/words/weights/image_batches/part-00028.parquet successfully.\n",
      "Embedding batches: 100%|██████████| 29/29 [19:11<00:00, 39.71s/it]\n",
      "INFO:src.ml.embeddings.feature_extractor:Done. Saved dataset under directory: /home/nikolay/Deloitte/RIMAS/src/data/processed/words/weights/image_batches\n"
     ]
    }
   ],
   "source": [
    "# If you want to compute embeddings and save them in batches\n",
    "feature_extractor.prepare_and_save_text_image_pairs_with_batch(\n",
    "    saver_service=saver_service,\n",
    "    batch_size=config.BATCH_SIZE,\n",
    "    image_embeddings_path=config.IMAGE_EMBEDDINGS_PATH\n",
    ")"
   ]
  },
  {
   "cell_type": "code",
   "execution_count": 33,
   "id": "0b52f9d0",
   "metadata": {},
   "outputs": [
    {
     "name": "stdout",
     "output_type": "stream",
     "text": [
      "(28475, 4)\n"
     ]
    },
    {
     "data": {
      "text/html": [
       "<div>\n",
       "<style scoped>\n",
       "    .dataframe tbody tr th:only-of-type {\n",
       "        vertical-align: middle;\n",
       "    }\n",
       "\n",
       "    .dataframe tbody tr th {\n",
       "        vertical-align: top;\n",
       "    }\n",
       "\n",
       "    .dataframe thead th {\n",
       "        text-align: right;\n",
       "    }\n",
       "</style>\n",
       "<table border=\"1\" class=\"dataframe\">\n",
       "  <thead>\n",
       "    <tr style=\"text-align: right;\">\n",
       "      <th></th>\n",
       "      <th>label</th>\n",
       "      <th>image_path</th>\n",
       "      <th>image_embedding</th>\n",
       "    </tr>\n",
       "    <tr>\n",
       "      <th>id</th>\n",
       "      <th></th>\n",
       "      <th></th>\n",
       "      <th></th>\n",
       "    </tr>\n",
       "  </thead>\n",
       "  <tbody>\n",
       "    <tr>\n",
       "      <th>0</th>\n",
       "      <td>l'expression</td>\n",
       "      <td>/home/nikolay/Deloitte/RIMAS/src/data/processe...</td>\n",
       "      <td>[19.508981704711914, 15.61077880859375, 11.281...</td>\n",
       "    </tr>\n",
       "    <tr>\n",
       "      <th>1</th>\n",
       "      <td>Sincères</td>\n",
       "      <td>/home/nikolay/Deloitte/RIMAS/src/data/processe...</td>\n",
       "      <td>[12.892561912536621, 9.752065658569336, 9.1487...</td>\n",
       "    </tr>\n",
       "    <tr>\n",
       "      <th>2</th>\n",
       "      <td>compte</td>\n",
       "      <td>/home/nikolay/Deloitte/RIMAS/src/data/processe...</td>\n",
       "      <td>[12.104000091552734, 22.055999755859375, 19.55...</td>\n",
       "    </tr>\n",
       "    <tr>\n",
       "      <th>3</th>\n",
       "      <td>privées</td>\n",
       "      <td>/home/nikolay/Deloitte/RIMAS/src/data/processe...</td>\n",
       "      <td>[19.907894134521484, 16.74342155456543, 14.822...</td>\n",
       "    </tr>\n",
       "    <tr>\n",
       "      <th>4</th>\n",
       "      <td>domicile</td>\n",
       "      <td>/home/nikolay/Deloitte/RIMAS/src/data/processe...</td>\n",
       "      <td>[15.165775299072266, 18.45989227294922, 17.016...</td>\n",
       "    </tr>\n",
       "  </tbody>\n",
       "</table>\n",
       "</div>"
      ],
      "text/plain": [
       "           label                                         image_path  \\\n",
       "id                                                                    \n",
       "0   l'expression  /home/nikolay/Deloitte/RIMAS/src/data/processe...   \n",
       "1       Sincères  /home/nikolay/Deloitte/RIMAS/src/data/processe...   \n",
       "2         compte  /home/nikolay/Deloitte/RIMAS/src/data/processe...   \n",
       "3        privées  /home/nikolay/Deloitte/RIMAS/src/data/processe...   \n",
       "4       domicile  /home/nikolay/Deloitte/RIMAS/src/data/processe...   \n",
       "\n",
       "                                      image_embedding  \n",
       "id                                                     \n",
       "0   [19.508981704711914, 15.61077880859375, 11.281...  \n",
       "1   [12.892561912536621, 9.752065658569336, 9.1487...  \n",
       "2   [12.104000091552734, 22.055999755859375, 19.55...  \n",
       "3   [19.907894134521484, 16.74342155456543, 14.822...  \n",
       "4   [15.165775299072266, 18.45989227294922, 17.016...  "
      ]
     },
     "execution_count": 33,
     "metadata": {},
     "output_type": "execute_result"
    }
   ],
   "source": [
    "# If you want to load precomputed embeddings\n",
    "feature_extractor.image_embeddings_list = loader_service.load_image_embeddings_from_all_batches(\n",
    "    image_embeddings_dir=config.IMAGE_EMBEDDINGS_PATH\n",
    ")\n",
    "image_embeddings = feature_extractor.image_embeddings_list\n",
    "print(image_embeddings.shape)\n",
    "image_embeddings.set_index(\"id\").head()"
   ]
  },
  {
   "cell_type": "code",
   "execution_count": null,
   "id": "42fa24fb",
   "metadata": {},
   "outputs": [],
   "source": []
  }
 ],
 "metadata": {
  "kernelspec": {
   "display_name": "rimas",
   "language": "python",
   "name": "python3"
  },
  "language_info": {
   "codemirror_mode": {
    "name": "ipython",
    "version": 3
   },
   "file_extension": ".py",
   "mimetype": "text/x-python",
   "name": "python",
   "nbconvert_exporter": "python",
   "pygments_lexer": "ipython3",
   "version": "3.11.13"
  }
 },
 "nbformat": 4,
 "nbformat_minor": 5
}
